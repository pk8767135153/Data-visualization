{
 "cells": [
  {
   "cell_type": "code",
   "execution_count": 18,
   "id": "ea9fa331",
   "metadata": {},
   "outputs": [
    {
     "name": "stdout",
     "output_type": "stream",
     "text": [
      "This constructor present inside the child class\n",
      "This Function Present inside the base class\n"
     ]
    }
   ],
   "source": [
    "class BaseClass:\n",
    "    def __init__(self):\n",
    "        print(\"This is constructor run when we can create object of that class or \")\n",
    "    def funBaseClass(self):\n",
    "        print(\"This Function Present inside the base class\")\n",
    "class childClass(BaseClass):\n",
    "    def __init__(self):\n",
    "        print(\"This constructor present inside the child class\")\n",
    "obj = childClass()#Access specifier & this problem\n",
    "obj.funBaseClass()"
   ]
  },
  {
   "cell_type": "code",
   "execution_count": 17,
   "id": "04aae658",
   "metadata": {},
   "outputs": [],
   "source": [
    "class a:\n",
    "    def __init__(self):\n",
    "        print(\"A\")    # inpython there is one keyword that into where we can use this key on the place init there is issuse constructure is not call a\n",
    "class b:\n",
    "    def __init__(self):\n",
    "        print(\"B\")\n",
    "obj3=b()\n",
    "# obj4 = a()"
   ]
  },
  {
   "cell_type": "code",
   "execution_count": 19,
   "id": "23b6bb3b",
   "metadata": {},
   "outputs": [
    {
     "name": "stdout",
     "output_type": "stream",
     "text": [
      "this Child Constructure\n"
     ]
    }
   ],
   "source": [
    "class BaseClass:\n",
    "    def __init__(self):\n",
    "        print(\"This is constructor run when we can create object of that class or \")\n",
    "    def funBaseClass(self):\n",
    "        print(\"This Function Present inside the base class\")\n",
    "class B(BaseClass):\n",
    "    def __init__(self):\n",
    "        print(\"This constructor present inside the child class\")\n",
    "    def fun2(self):\n",
    "        print(\"This class is  B\")\n",
    "class childClass(B):\n",
    "    def __init__(self):\n",
    "        print(\"this Child Constructure\")\n",
    "    def fun3(self):\n",
    "        print(\"This Child Function \")\n",
    "obj1 = childClass()\n"
   ]
  },
  {
   "cell_type": "code",
   "execution_count": 21,
   "id": "b099b862",
   "metadata": {},
   "outputs": [
    {
     "name": "stdout",
     "output_type": "stream",
     "text": [
      " E \n"
     ]
    }
   ],
   "source": [
    "class A:\n",
    "    def __init__(self):\n",
    "        print(\" A \")\n",
    "class B(A):\n",
    "    def __inti__(self):\n",
    "        print(\" B \")\n",
    "class C(A):\n",
    "    def __init__(self):\n",
    "        print(\" C \")\n",
    "class D(A):\n",
    "    def __init__(self):\n",
    "        print(\" D \")\n",
    "class E(B):\n",
    "    def __init__(self):\n",
    "        print(\" E \")\n",
    "obj1 = E()"
   ]
  }
 ],
 "metadata": {
  "kernelspec": {
   "display_name": "Python 3 (ipykernel)",
   "language": "python",
   "name": "python3"
  },
  "language_info": {
   "codemirror_mode": {
    "name": "ipython",
    "version": 3
   },
   "file_extension": ".py",
   "mimetype": "text/x-python",
   "name": "python",
   "nbconvert_exporter": "python",
   "pygments_lexer": "ipython3",
   "version": "3.9.13"
  }
 },
 "nbformat": 4,
 "nbformat_minor": 5
}
