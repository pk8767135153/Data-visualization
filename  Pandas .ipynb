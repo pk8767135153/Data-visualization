{
 "cells": [
  {
   "cell_type": "code",
   "execution_count": 4,
   "id": "f54aa4ea",
   "metadata": {},
   "outputs": [
    {
     "name": "stdout",
     "output_type": "stream",
     "text": [
      "Series([], dtype: float64)\n"
     ]
    },
    {
     "name": "stderr",
     "output_type": "stream",
     "text": [
      "C:\\Users\\PRAVIN\\AppData\\Local\\Temp\\ipykernel_22380\\2866082555.py:2: FutureWarning: The default dtype for empty Series will be 'object' instead of 'float64' in a future version. Specify a dtype explicitly to silence this warning.\n",
      "  s = pd.Series()\n"
     ]
    }
   ],
   "source": [
    "import pandas as pd\n",
    "s = pd.Series()\n",
    "print(s)\n",
    "\n",
    "# Pandas deals with the following three data structure\n",
    "#                 1. Series  : It is 1D homogeneous array, size immutable\n",
    "#                 2. DataFrame : General 2 D\n",
    "#                 3. Panel"
   ]
  },
  {
   "cell_type": "code",
   "execution_count": 16,
   "id": "971fffcc",
   "metadata": {},
   "outputs": [
    {
     "name": "stdout",
     "output_type": "stream",
     "text": [
      "Numpy data Represitation \n",
      "  [1 2 3 4 5 6] \n",
      "\n",
      "Pandas Series Represitation \n",
      "  0    1\n",
      "1    2\n",
      "2    3\n",
      "3    4\n",
      "4    5\n",
      "5    6\n",
      "dtype: int32 \n",
      "\n"
     ]
    }
   ],
   "source": [
    "import pandas as pd \n",
    "import numpy as np\n",
    "\n",
    "list1 = ['a','b','c',1,2,3,True] # this list contain many data type but futher opeartion we can getting error so use similar data type in the list\n",
    "list2 = [1,2,3,4,5,6]\n",
    "data = np.array(list2)\n",
    "s = pd.Series(data)\n",
    "\n",
    "print(\"Numpy data Represitation \\n \",data,\"\\n\")\n",
    "print(\"Pandas Series Represitation \\n \",s,\"\\n\")"
   ]
  },
  {
   "cell_type": "code",
   "execution_count": 2,
   "id": "037745ce",
   "metadata": {},
   "outputs": [
    {
     "name": "stdout",
     "output_type": "stream",
     "text": [
      "100    1\n",
      "200    2\n",
      "300    3\n",
      "400    4\n",
      "500    5\n",
      "dtype: int32\n"
     ]
    }
   ],
   "source": [
    "import pandas as pd\n",
    "import numpy as np\n",
    "\n",
    "\"\"\"\n",
    "        Pandas.Series: \n",
    "        \n",
    "                pandas.DataFrame(data,index,dtype,copy)\n",
    "\"\"\"\n",
    "list1 = [1,2,3,4,5]\n",
    "data = np.array(list1)\n",
    "s = pd.Series(data,index = [100,200,300,400,500])  \n",
    "# here we can provide index 1 can store at index 100 like another 2->200,3->300,etc\n",
    "\n",
    "print(s)"
   ]
  },
  {
   "cell_type": "code",
   "execution_count": 18,
   "id": "1da282e4",
   "metadata": {},
   "outputs": [
    {
     "name": "stdout",
     "output_type": "stream",
     "text": [
      "a    0.0\n",
      "b    1.0\n",
      "c    2.0\n",
      "dtype: float64\n"
     ]
    }
   ],
   "source": [
    "import pandas as pd \n",
    "\n",
    "data = { 'a':0., 'b':1., 'c': 2. }\n",
    "s = pd.Series(data)\n",
    "\n",
    "print(s)"
   ]
  },
  {
   "cell_type": "code",
   "execution_count": 24,
   "id": "423b576b",
   "metadata": {},
   "outputs": [
    {
     "name": "stdout",
     "output_type": "stream",
     "text": [
      "b    1.0\n",
      "c    2.0\n",
      "d    NaN\n",
      "dtype: float64\n"
     ]
    }
   ],
   "source": [
    "import pandas as pd \n",
    "data = {'a':0.,'b':1,'c':2.}\n",
    "s = pd.Series(data, index = ['b','c','d']) \n",
    "# we can access data inside data variable but 'd' key value are not present than we can getting null value \n",
    "print(s)"
   ]
  },
  {
   "cell_type": "code",
   "execution_count": 6,
   "id": "0726044e",
   "metadata": {},
   "outputs": [
    {
     "name": "stdout",
     "output_type": "stream",
     "text": [
      "0    5\n",
      "1    5\n",
      "2    5\n",
      "3    5\n",
      "6    5\n",
      "dtype: int64\n"
     ]
    }
   ],
   "source": [
    "import pandas as pd\n",
    "import numpy as np\n",
    "\n",
    "s = pd.Series(5,index=[0,1,2,3,6])\n",
    "print(s)\n",
    "\n",
    "# list2 = [ 10, 20, 30, 40, 50]\n",
    "# data1 = np.array(list2)\n",
    "# s1 = pd.Series(data,index=[1,2,3])\n",
    "# print(s1)\n",
    "\n",
    "# ValueError: Length of values (5) does not match length of index (3)\n"
   ]
  },
  {
   "cell_type": "code",
   "execution_count": 14,
   "id": "8fdf556c",
   "metadata": {},
   "outputs": [
    {
     "name": "stdout",
     "output_type": "stream",
     "text": [
      "b    2\n",
      "c    3\n",
      "d    4\n",
      "dtype: int64\n",
      "a    1\n",
      "b    2\n",
      "c    3\n",
      "d    4\n",
      "f    5\n",
      "dtype: int64\n"
     ]
    }
   ],
   "source": [
    "import pandas as pd \n",
    "s = pd.Series([1,2,3,4,5],index=['a','b','c','d','f'])\n",
    "print(s[1:4])\n",
    "print(s[-5:5])"
   ]
  },
  {
   "cell_type": "code",
   "execution_count": 23,
   "id": "0858c0a1",
   "metadata": {},
   "outputs": [
    {
     "name": "stdout",
     "output_type": "stream",
     "text": [
      "1 2\n",
      "a    1\n",
      "b    2\n",
      "c    3\n",
      "dtype: int64\n",
      "3  +  2  =  5\n",
      "3  -  2  =  1\n",
      "3  *  2  =  6\n",
      "3  /  2  =  1.5\n",
      "3  //  2  =  1\n",
      "3  %  2  =  1\n",
      "3  **  2  =  9\n"
     ]
    }
   ],
   "source": [
    "import pandas as pd\n",
    "s = pd.Series([1,2,3,4,5], index=['a','b','c','d','e'])\n",
    "\n",
    "print(s['a'],s['b'])\n",
    "# This command run like list. it will return only data element.\n",
    "print(s[['a','b','c']])\n",
    "# This command run like Series. it will return index as well as data element.\n",
    "\n",
    "print(s['c'],\" + \",s['b'],\" = \",s['c']+s['b'])\n",
    "print(s['c'],\" - \",s['b'],\" = \",s['c']-s['b'])\n",
    "print(s['c'],\" * \",s['b'],\" = \",s['c']*s['b'])\n",
    "print(s['c'],\" / \",s['b'],\" = \",s['c']/s['b'])\n",
    "print(s['c'],\" // \",s['b'],\" = \",s['c']//s['b'])\n",
    "print(s['c'],\" % \",s['b'],\" = \",s['c']%s['b'])\n",
    "print(s['c'],\" ** \",s['b'],\" = \",s['c']**s['b'])\n"
   ]
  },
  {
   "cell_type": "code",
   "execution_count": 11,
   "id": "651c7ce4",
   "metadata": {},
   "outputs": [
    {
     "name": "stdout",
     "output_type": "stream",
     "text": [
      "a    [23, 44, 53, 534, 63]\n",
      "b          [1, 3, 5, 6, 7]\n",
      "dtype: object\n"
     ]
    }
   ],
   "source": [
    "import pandas as pd\n",
    "\n",
    "data ={\n",
    "    'a':[23,44,53,534,63],\n",
    "    'b':[1,3,5,6,7]\n",
    "}\n",
    "\n",
    "s = pd.Series(data)\n",
    "print(s)"
   ]
  }
 ],
 "metadata": {
  "kernelspec": {
   "display_name": "Python 3 (ipykernel)",
   "language": "python",
   "name": "python3"
  },
  "language_info": {
   "codemirror_mode": {
    "name": "ipython",
    "version": 3
   },
   "file_extension": ".py",
   "mimetype": "text/x-python",
   "name": "python",
   "nbconvert_exporter": "python",
   "pygments_lexer": "ipython3",
   "version": "3.9.13"
  }
 },
 "nbformat": 4,
 "nbformat_minor": 5
}
