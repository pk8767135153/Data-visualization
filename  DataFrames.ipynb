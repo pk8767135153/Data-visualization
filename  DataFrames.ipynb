{
 "cells": [
  {
   "cell_type": "code",
   "execution_count": 3,
   "id": "5e077233",
   "metadata": {},
   "outputs": [
    {
     "name": "stdout",
     "output_type": "stream",
     "text": [
      "This is Series: \n",
      " 0    1\n",
      "1    2\n",
      "2    3\n",
      "3    4\n",
      "4    5\n",
      "5    6\n",
      "dtype: int32 \n",
      "\n",
      "\n",
      "This is DataFrame: \n",
      "    0\n",
      "0  1\n",
      "1  2\n",
      "2  3\n",
      "3  4\n",
      "4  5\n",
      "5  6\n"
     ]
    }
   ],
   "source": [
    "# Syntax Of DataFrame\n",
    "#                  pandas.DataFrame(data, index, columns, dtype, copy)\n",
    "\n",
    "import pandas as pd \n",
    "import numpy as np\n",
    "\n",
    "\n",
    "list1 = [1,2,3,4,5,6]\n",
    "data = np.array(list1)\n",
    "s = pd.Series(data)\n",
    "bataFram = pd.DataFrame(data)\n",
    "\n",
    "print(\"This is Series: \\n\",s,\"\\n\\n\")\n",
    "print(\"This is DataFrame: \\n\",bataFram)"
   ]
  },
  {
   "cell_type": "code",
   "execution_count": 10,
   "id": "673f620e",
   "metadata": {},
   "outputs": [
    {
     "name": "stdout",
     "output_type": "stream",
     "text": [
      "     Name  Marks\n",
      "0  Pravin     98\n",
      "1  Lokesh    100\n",
      "2  Harish    100\n"
     ]
    }
   ],
   "source": [
    "import pandas as pd\n",
    "data = [['Pravin',98],[\"Lokesh\",100],[\"Harish\",100]]\n",
    "df = pd.DataFrame(data,columns=(\"Name\",\"Marks\"))\n",
    "print(df)"
   ]
  },
  {
   "cell_type": "code",
   "execution_count": 12,
   "id": "9410877e",
   "metadata": {},
   "outputs": [
    {
     "name": "stdout",
     "output_type": "stream",
     "text": [
      "                0    1\n",
      "Student 1  Pravin   98\n",
      "Student 2  Lokesh  100\n",
      "Student 3  Harish  100\n"
     ]
    }
   ],
   "source": [
    "import pandas as pd\n",
    "data = [['Pravin',98],[\"Lokesh\",100],[\"Harish\",100]]\n",
    "df = pd.DataFrame(data,columns=(\"Name\",\"Marks\"))\n",
    "df = pd.DataFrame(data,index=[\"Student 1\",\"Student 2\",\"Student 3\"])\n",
    "print(df)"
   ]
  },
  {
   "cell_type": "code",
   "execution_count": 25,
   "id": "0ededc01",
   "metadata": {},
   "outputs": [
    {
     "name": "stdout",
     "output_type": "stream",
     "text": [
      "             Name  Marks  Semester\n",
      "Student 1  Harish    100         3\n",
      "Student 2  Lokesh     99         4\n",
      "Student 3  Pravin     92         2\n"
     ]
    }
   ],
   "source": [
    "import pandas as pd \n",
    "\n",
    "data ={\n",
    "    \"Name\":[\"Harish\",\"Lokesh\",\"Pravin\"],\n",
    "    \"Marks\":[100,99,92],\n",
    "    \"Semester\":[3,4,2]\n",
    "}\n",
    "\n",
    "df = pd.DataFrame(data, index = [\"Student 1\",\"Student 2\",\"Student 3\"])\n",
    "\n",
    "print(df)"
   ]
  },
  {
   "cell_type": "code",
   "execution_count": 40,
   "id": "5e814da1",
   "metadata": {},
   "outputs": [
    {
     "name": "stdout",
     "output_type": "stream",
     "text": [
      "Student 1    Harish\n",
      "Student 2    Lokesh\n",
      "Student 3    Pravin\n",
      "Name: Name, dtype: object\n",
      "It Return Value which is present Inside Name colume at position 0 :  Harish\n",
      "Name        Pravin\n",
      "Marks           92\n",
      "Semester         2\n",
      "Name: Student 3, dtype: object\n"
     ]
    }
   ],
   "source": [
    "import pandas as pd \n",
    "\n",
    "data ={\n",
    "    \"Name\":[\"Harish\",\"Lokesh\",\"Pravin\"],\n",
    "    \"Marks\":[100,99,92],\n",
    "    \"Semester\":[3,4,2]\n",
    "}\n",
    "\n",
    "df = pd.DataFrame(data, index = [\"Student 1\",\"Student 2\",\"Student 3\"])\n",
    "\n",
    "print(df.Name)    # It return Name Colume\n",
    "print(\"It Return Value which is present Inside Name colume at position 0 : \",df.Name[0])   \n",
    " "
   ]
  },
  {
   "cell_type": "code",
   "execution_count": 42,
   "id": "501ffb8f",
   "metadata": {},
   "outputs": [
    {
     "name": "stdout",
     "output_type": "stream",
     "text": [
      "          Name  Value  Marks\n",
      "First   Pravin      5    NaN\n",
      "Second  Harish      9   99.0 \n",
      "\n",
      "          Name  Value  Marks  Age\n",
      "First   Pravin      5    NaN  NaN\n",
      "Second  Harish      9   99.0  NaN\n"
     ]
    }
   ],
   "source": [
    "import pandas as pd\n",
    "\n",
    "data =[{\"Name\":\"Pravin\",\"Value\": 5},{\"Name\":\"Harish\", \"Value\":9, \"Marks\":99}]\n",
    "df = pd.DataFrame(data,index=[\"First\",\"Second\"])\n",
    "df1 = pd.DataFrame(data,index=[\"First\",\"Second\"],columns=[\"Name\",\"Value\",\"Marks\",\"Age\"])\n",
    "\n",
    "print(df,\"\\n\")\n",
    "print(df1)"
   ]
  },
  {
   "cell_type": "code",
   "execution_count": 50,
   "id": "128070c5",
   "metadata": {},
   "outputs": [
    {
     "name": "stdout",
     "output_type": "stream",
     "text": [
      "   One   Two\n",
      "a  1.0   NaN\n",
      "b  2.0   NaN\n",
      "c  3.0   NaN\n",
      "d  4.0   NaN\n",
      "x  NaN  11.0\n",
      "y  NaN  22.0\n",
      "z  NaN  33.0\n",
      "One    1.0\n",
      "Two    NaN\n",
      "Name: a, dtype: float64\n",
      "   One   Two\n",
      "a  1.0   NaN\n",
      "b  2.0   NaN\n",
      "c  3.0   NaN\n",
      "d  4.0   NaN\n",
      "y  NaN  22.0\n",
      "z  NaN  33.0\n"
     ]
    }
   ],
   "source": [
    "import pandas as pd\n",
    "\n",
    "d = {\"One\":pd.Series([1,2,3,4],index=[\"a\",\"b\",\"c\",\"d\"]),\n",
    "      \"Two\":pd.Series([11,22,33],index=[\"x\",\"y\",\"z\"])\n",
    "    }\n",
    "df = pd.DataFrame(d)\n",
    "print(df)\n",
    "\n",
    "print(df.loc[\"a\"])\n",
    "\n",
    "df1 =df.drop(\"x\")\n",
    "print(df1)"
   ]
  },
  {
   "cell_type": "code",
   "execution_count": 38,
   "id": "8d37fa2f",
   "metadata": {},
   "outputs": [
    {
     "name": "stdout",
     "output_type": "stream",
     "text": [
      "Adding a new column by passing as Series: \n",
      "    one   two  three\n",
      "10  NaN  11.0    NaN\n",
      "11  1.0   NaN    NaN\n",
      "20  NaN  22.0    NaN\n",
      "22  2.0   NaN    NaN\n",
      "30  NaN  33.0    NaN\n",
      "33  3.0   NaN    NaN\n",
      "    one   two  three  four\n",
      "10  NaN  11.0    NaN   NaN\n",
      "11  1.0   NaN    NaN   NaN\n",
      "20  NaN  22.0    NaN   NaN\n",
      "22  2.0   NaN    NaN   NaN\n",
      "30  NaN  33.0    NaN   NaN\n",
      "33  3.0   NaN    NaN   NaN\n"
     ]
    }
   ],
   "source": [
    "import pandas as pd\n",
    "d = {\n",
    "    \"one\":pd.Series([1,2,3],index=[11,22,33]),\n",
    "    \"two\":pd.Series([11,22,33],index=[10,20,30])\n",
    "}\n",
    "\n",
    "df = pd.DataFrame(d)\n",
    "\n",
    "print(\"Adding a new column by passing as Series: \")\n",
    "df[\"three\"]=pd.Series([10,20,30],index=[1.1,2.2,3.3])\n",
    "print(df)\n",
    "df[\"four\"]=df[\"one\"]+df[\"three\"]\n",
    "print(df)"
   ]
  },
  {
   "cell_type": "code",
   "execution_count": null,
   "id": "978704b3",
   "metadata": {},
   "outputs": [],
   "source": [
    " "
   ]
  }
 ],
 "metadata": {
  "kernelspec": {
   "display_name": "Python 3 (ipykernel)",
   "language": "python",
   "name": "python3"
  },
  "language_info": {
   "codemirror_mode": {
    "name": "ipython",
    "version": 3
   },
   "file_extension": ".py",
   "mimetype": "text/x-python",
   "name": "python",
   "nbconvert_exporter": "python",
   "pygments_lexer": "ipython3",
   "version": "3.9.13"
  }
 },
 "nbformat": 4,
 "nbformat_minor": 5
}
