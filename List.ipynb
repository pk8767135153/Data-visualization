{
 "cells": [
  {
   "cell_type": "code",
   "execution_count": 19,
   "id": "aba35670",
   "metadata": {},
   "outputs": [
    {
     "name": "stdout",
     "output_type": "stream",
     "text": [
      "['12323', 3434]\n",
      "['12323', 3434, '12323', 3434, '12323', 3434]\n",
      "53\n",
      "25\n",
      "4\n",
      "53\n",
      "[34, 31, 25]\n",
      "25\n"
     ]
    }
   ],
   "source": [
    "list1 = [\"Pravin\",\"12323\", 3434 , True]\n",
    "print(list1[1:-1])\n",
    "print(list1[1:-1]*3)\n",
    "list2 =[ 34,53,31,25]\n",
    "print(max(list2))\n",
    "print(min(list2))\n",
    "print(len(list2))\n",
    "print(list2.pop(1))\n",
    "print(list2)\n",
    "print(list2.pop())"
   ]
  },
  {
   "cell_type": "code",
   "execution_count": 20,
   "id": "5c98c5bc",
   "metadata": {},
   "outputs": [
    {
     "name": "stdout",
     "output_type": "stream",
     "text": [
      "12\n",
      "12.0\n",
      "6\n",
      "22\n",
      "10.0\n",
      "100.0\n",
      "10.488088481701515\n"
     ]
    }
   ],
   "source": [
    "import math\n",
    "list =[234,3423,342,4243]\n",
    "\n",
    "x = 11.2\n",
    "print(math.ceil(x))\n",
    "\n",
    "x = -12\n",
    "print(math.fabs(x))\n",
    "\n",
    "x =3\n",
    "print(math.factorial(x))\n",
    "\n",
    "x = 22.45\n",
    "print(math.floor(x))\n",
    "\n",
    "l =[1,2,3,4]\n",
    "t =(90,20,-10)\n",
    "print(math.fsum(l))\n",
    "print(math.fsum(t))\n",
    "\n",
    "x = 110\n",
    "print(math.sqrt(x))\n",
    "\n"
   ]
  }
 ],
 "metadata": {
  "kernelspec": {
   "display_name": "Python 3 (ipykernel)",
   "language": "python",
   "name": "python3"
  },
  "language_info": {
   "codemirror_mode": {
    "name": "ipython",
    "version": 3
   },
   "file_extension": ".py",
   "mimetype": "text/x-python",
   "name": "python",
   "nbconvert_exporter": "python",
   "pygments_lexer": "ipython3",
   "version": "3.9.13"
  }
 },
 "nbformat": 4,
 "nbformat_minor": 5
}
